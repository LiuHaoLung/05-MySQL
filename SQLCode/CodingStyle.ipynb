{
 "cells": [
  {
   "cell_type": "markdown",
   "metadata": {},
   "source": [
    "# Coding Style"
   ]
  },
  {
   "cell_type": "markdown",
   "metadata": {},
   "source": [
    "Complying with the coding style is crucial, it will always working in any team, there will always be someone who will read the code at some point, then you'll find out there is one notion that will not be giving you a break.\n",
    "\n",
    "The notion of clean code, clean code is code that is focused and understandable, which means it must be readable, logical and changeable.\n",
    "\n",
    "The good code is not the one computers understand, it is the one humans can understand, often a program can be created in many ways and code in general, can be organized in several ways, good practice implies you will choose the version that will be easiest to read and understand and will be the one that doesn't hinder the colleagues from updating it when necessary.\n",
    "\n",
    "The assumption, at the workplace, you will always type code cleanly as simple as possible, perfectly organized, maintaining a steady logical flow.\n",
    "___\n",
    "\n",
    "When assigning names to variables or SQL objects, always choose shorter, meaningful names, conveying specific information, by meaningful, we mean names that are pronounceable were one word per concept has been picked, it need not be in a rush to choose names since they must reflect as much of the object's functionality as possible, names will constitute more than 80% of the code, so it matters which ones you work with.\n",
    "\n",
    "It is often discussed whether capital or small letters must be used when coding, the truth is it depends on your style or on the style the company you are working for, more often it will capitalize the SQL keywords and will write objects names in a different way, when a name comprises more than one word, it usually either separated by an underscrore or attached to each other and each word starts with a capital letter, one thing is sure through you can't leave a blank space between words, in this case, MySQL will show an error message if you try to do that.\n",
    "___\n",
    "\n",
    "Readability, this regards the horizontal and vertical organization of code, on the other the colour which words are displayed, technically SQL query can be written in a single line, however many queries are too long and will become difficult to read if we do that, what needs to be done in such cases, to organize the code not just horizontally but also vertically, depending on their meaning in a query, and on the way we want them to read words can be written in different colors, SQL keywords are written in blue, objects names in black, and orange and so on.\n",
    "___\n",
    "\n",
    "There are three main ways to maintain the code well,\n",
    "\n",
    "* Professionals use ad-hoc software that re-organized code and colours different words consistenly, in a more dynamic coding environment, time will be a factor and unification of coding style will be a top priority, it is unprofessional to merge code written in the same language but in a different style.\n",
    "\n",
    "* Use the relevant analogical tool provided in workbench, there is a little brush beautifies the code.\n",
    "\n",
    "* If you'd prefer to clean the code differently, you should intervene manually and adjust your code as you like."
   ]
  },
  {
   "cell_type": "code",
   "execution_count": null,
   "metadata": {},
   "outputs": [],
   "source": []
  }
 ],
 "metadata": {
  "kernelspec": {
   "display_name": "Python 3",
   "language": "python",
   "name": "python3"
  },
  "language_info": {
   "codemirror_mode": {
    "name": "ipython",
    "version": 3
   },
   "file_extension": ".py",
   "mimetype": "text/x-python",
   "name": "python",
   "nbconvert_exporter": "python",
   "pygments_lexer": "ipython3",
   "version": "3.7.4"
  }
 },
 "nbformat": 4,
 "nbformat_minor": 2
}
