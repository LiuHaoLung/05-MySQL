{
 "cells": [
  {
   "cell_type": "markdown",
   "metadata": {},
   "source": [
    "# Drop vs Truncate vs Delete"
   ]
  },
  {
   "cell_type": "markdown",
   "metadata": {},
   "source": [
    "Main difference between DROP, TRUNCATE and DELETE.\n",
    "___\n",
    "\n",
    "#### DROP\n",
    "\n",
    "For example, there is a table with 10 records, if you DROP it, you will lose the records, the table has a structure and all related objects like indexes and constraints, it will lose everything, furthermore, you won't be albe to ROLLBACK to its initial state or the last COMMIT, once you drop the table, it's gone, only additional data recovery software will help in such a situation, but it is not considered a standard SQL tool, hence DROP only when you are sure you aren't going to use the table in question anymore.\n",
    "____\n",
    "\n",
    "#### TRUNCATE\n",
    "\n",
    "It is a statement that will essentially remove all records from the table, just as if you had to use DELETE without WHERE clause, this means TRUNCATE will remove all records in the table, but its structure will remain intact, when trancating, auto-increment values will be reset, so if the table is 10 records, and then you truncate it, when you start refilling this data object with information, the next records that will be inserted are not going to be 11 and 12, it will be 1 or 2 and so on.\n",
    "___\n",
    "\n",
    "#### DELETE\n",
    "\n",
    "It is a statement removes records row by row, only the rows corresponding to a certain condition or conditions specified in the WHERE clause will be deleted, if the WHERE block is omitted, the output will resemble the one obtained with TRUNCATE.\n",
    "___\n",
    "\n",
    "#### DROP vs TRUNCATE vs DELETE\n",
    "\n",
    "First, the SQL optimizer will implement different programmatic approaches when we are using TRUNCATE or DELETE, as the result, TRUNCATE delivers the output much quicker than DELETE, because is does not need to remove information row by row.\n",
    "\n",
    "Second, auto-increment values are not reset with DELETE, so if you delete all 10 records in the table, then start inserting new data, the first new record will be 11 and so on, there are many other technical peculiarities regarding these three options, but their detailed explanation is beyond the scope."
   ]
  },
  {
   "cell_type": "code",
   "execution_count": null,
   "metadata": {},
   "outputs": [],
   "source": []
  }
 ],
 "metadata": {
  "kernelspec": {
   "display_name": "Python 3",
   "language": "python",
   "name": "python3"
  },
  "language_info": {
   "codemirror_mode": {
    "name": "ipython",
    "version": 3
   },
   "file_extension": ".py",
   "mimetype": "text/x-python",
   "name": "python",
   "nbconvert_exporter": "python",
   "pygments_lexer": "ipython3",
   "version": "3.7.4"
  }
 },
 "nbformat": 4,
 "nbformat_minor": 2
}
