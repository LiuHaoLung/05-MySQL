{
 "cells": [
  {
   "cell_type": "markdown",
   "metadata": {},
   "source": [
    "# Transaction Control Language(TCL)"
   ]
  },
  {
   "cell_type": "markdown",
   "metadata": {},
   "source": [
    "### Transaction Control Language\n",
    "\n",
    "When working in real-life, not every cange you make to a database is saved automatically, you have to say you wish that to happen.\n",
    "\n",
    "COMMIT saves the transaction in the database, once issued, the changes are saved permanently, and they can not be undone.\n",
    "\n",
    "ROLLBACK allows to take a step back, and the last change or changes you've made will not count, ROLLBACK reverts to the last non-committed state.\n",
    "___\n",
    "\n",
    "#### COMMIT\n",
    "\n",
    "The COMMIT works only for changes made with the help of INSERT, DELETE, or UPDATE clauses.\n",
    "\n",
    "COMMIT will save the changes you've made permanently on the database and will let other users have access to the modified version of the database.\n",
    "\n",
    "For instance, you have updated a record in the customers table, say you change the last name of the 4th customer from Winnfield to Johnson.\n",
    "\n",
    "If you are an administrator, you can do that with the help of the UPDATE clause, <code>UPDATE customers SET last_name = 'Johnson' WHERE customer_id = 4;</code>, and you will see Johnson appear in the place of Winnfield.\n",
    "\n",
    "The UPDATE statement allow to change the last_name of the 4th customer, but the rest of the users working with the database system can not see you have made any changes.\n",
    "\n",
    "To complete the entire process, it must add a COMMIT at the end of the UPDATE block, <code>UPDATE customers SET last_name = 'Johnson' WHERE customer_id = 4 COMMIT;</code>, only then will the updated information be available to all users.\n",
    "\n",
    "Committed states can accrue, if you are database administrator, you might need to use COMMIT 20 times per day, the Transaction Control Language clause that will let you make a step back and restore the database to the last committed state is ROLLBACK.\n",
    "___\n",
    "\n",
    "#### ROLLBACK\n",
    "\n",
    "ROLLBACK is the clause that will let you make a step back, this allows you to undo any changes you have made but don't want to be saved permanently.\n",
    "\n",
    "To apply this command, type ROLLBACK, <code>UPDATE customers SET last_name = 'Johnson' WHERE customer_id = 4 COMMIT ROLLBACK;</code>.\n",
    "\n",
    "Be careful when using this statement, because it will revert to the last committed state, and all the changes made in the meantime will be removed.\n",
    "\n",
    "There can be multiple statements executed, and they will all be undone.\n",
    "___\n",
    "\n",
    "Type                                |Mean\n",
    "---                                 |---\n",
    "DDL - Data Definition Language      |Creation of data\n",
    "DML - Data Manipulation Language    |Manipulation of data\n",
    "DCL - Data Control Language         |Assignment and removal of permissions to use this data\n",
    "TCL - Transaction Control Language  |Saving and restoring changes to a database"
   ]
  },
  {
   "cell_type": "code",
   "execution_count": null,
   "metadata": {},
   "outputs": [],
   "source": []
  }
 ],
 "metadata": {
  "kernelspec": {
   "display_name": "Python 3",
   "language": "python",
   "name": "python3"
  },
  "language_info": {
   "codemirror_mode": {
    "name": "ipython",
    "version": 3
   },
   "file_extension": ".py",
   "mimetype": "text/x-python",
   "name": "python",
   "nbconvert_exporter": "python",
   "pygments_lexer": "ipython3",
   "version": "3.7.4"
  }
 },
 "nbformat": 4,
 "nbformat_minor": 2
}
