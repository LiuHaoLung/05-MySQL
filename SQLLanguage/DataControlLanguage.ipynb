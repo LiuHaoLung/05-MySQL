{
 "cells": [
  {
   "cell_type": "markdown",
   "metadata": {},
   "source": [
    "# Data Control Language(DCL)"
   ]
  },
  {
   "cell_type": "markdown",
   "metadata": {},
   "source": [
    "### Data Control Language\n",
    "\n",
    "The Data Control Language is a syntax containing only two statements GRANT and REVOKE, these two statements allow to manage the rights users have in a database.\n",
    "\n",
    "The things is a database is typically used by many people, all members of the institution, organization or company to which the database belongs, these people are called users, and they don't necessarily have the same rights of access to the information in the database, this is where GRANT and REVOKE come into play.\n",
    "\n",
    "People who have complete rights to a database are databasw administrators, they can grant access to users and can revokeit.\n",
    "___\n",
    "\n",
    "#### GRANT\n",
    "\n",
    "GRANT gives or grants certain permissions to users.\n",
    "\n",
    "The syntax to comply with is the following <code>GRANT type_of_permission ON database_name.table_name TO 'username'@'localhost'</code>.\n",
    "\n",
    "With this syntax, one can GRANT a specific type of permisson, like complete or partial access to the resources from a designated table from a certain database.\n",
    "\n",
    "These rights will be assigned to a person who has a user name registered at the local server that MySQL has provided with the workbench.\n",
    "\n",
    "The server is based on out machine and it's commonly known as localhost, which is the domain name for the local IP address of our machine 127.0.0.1.\n",
    "\n",
    "Naturally big companies and corporations don't use this type of server, and their databases lay on external, much more powerful servers specifically designed to store big amounts of data.\n",
    "\n",
    "So those servers are not the localhost and are accessible on different IP addresses.\n",
    "\n",
    "___\n",
    "\n",
    "#### REVOKE\n",
    "\n",
    "The REVOKE clause is used to revoke permissions and privileges of database users, it is exact opposite of GRANT statement.\n",
    "\n",
    "The syntax is <code>REVOKE type_of_permission ON database_name.table_name FROM 'username'@'localhost'</code>.\n",
    "\n",
    "Instead of granting permission TO somebody, one can revoke a privilege FROM somebody."
   ]
  },
  {
   "cell_type": "code",
   "execution_count": null,
   "metadata": {},
   "outputs": [],
   "source": []
  }
 ],
 "metadata": {
  "kernelspec": {
   "display_name": "Python 3",
   "language": "python",
   "name": "python3"
  },
  "language_info": {
   "codemirror_mode": {
    "name": "ipython",
    "version": 3
   },
   "file_extension": ".py",
   "mimetype": "text/x-python",
   "name": "python",
   "nbconvert_exporter": "python",
   "pygments_lexer": "ipython3",
   "version": "3.7.4"
  }
 },
 "nbformat": 4,
 "nbformat_minor": 2
}
