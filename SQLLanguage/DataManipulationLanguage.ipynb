{
 "cells": [
  {
   "cell_type": "markdown",
   "metadata": {},
   "source": [
    "# Data Manipulation Language(DML)"
   ]
  },
  {
   "cell_type": "markdown",
   "metadata": {},
   "source": [
    "### Data Manipulation Language\n",
    "\n",
    "It is some statements allow us to manipulate the data in the tables of a database.\n",
    "\n",
    "The DML syntax is composed mainly of the following 4 elements containing statements and keywords, <code>SELECT ... FROM</code>, <code>INSERT INTO ... VALUES</code>, <code>UPDATE ... SET ... WHERE</code>, <code>DELETE ... FROM ... WHERE</code>.\n",
    "___\n",
    "\n",
    "#### SELECT\n",
    "\n",
    "The SELECT, a statement used to retrieve data from database objects, like tables.\n",
    "\n",
    "The syntax is <code>SELECT * FROM sales;</code>, the <code>*</code> after the SELECT statement in the following line will deliver the entire content of the sales table, meaning all records and fields contained in the table.\n",
    "\n",
    "It can use the same structure to extrace specific records from the table.\n",
    "___\n",
    "\n",
    "#### INSERT\n",
    "\n",
    "The INSERT is used to insert data into tables, it enables to add more records or rows while you are working with the table.\n",
    "\n",
    "This clause goes hand in hand with the keywords INTO and VALUES, the syntax is <code>INSERT INTO ... VALUES...;</code>.\n",
    "\n",
    "The syntax like <code>INSERT INTO sales (purchase_number, data_of_purchase) VALUES (1, '2017-10-11');</code>, after the table name, it will have to specify the columns you are adding information to, unless you want to insert data in all columns.\n",
    "___\n",
    "\n",
    "#### UPDATE\n",
    "\n",
    "The UPDATE allows you to renew existing data of your tables.\n",
    "\n",
    "The syntax is <code>UPDARA sales SEL data-of_purchase = '2017-12-12' WHERE purchase_numer = 1;</code>.\n",
    "___\n",
    "\n",
    "#### DELETE\n",
    "\n",
    "The DELETE is function similarly to the TRUNCATE statement for DDL with one substantial difference.\n",
    "\n",
    "The TRUNCATE allows to remove all the records contained in a table; with DELETE allows to specify precisely what you would like to be removed.\n",
    "\n",
    "The syntax is <code>DELETE FROM sales;</code>, this syntax will remove all the records from the sales table just as if we had <code>TRUNCATE TABLE sales;</code>.\n",
    "\n",
    "If take advantage of the optional WHERE clause, the syntax is <code>DELETE FROM sales WHERE purchase_number = 1;</code>, the following statement will delete the record with purchase_number of 1, and the other one we have in table will be left intace."
   ]
  },
  {
   "cell_type": "code",
   "execution_count": null,
   "metadata": {},
   "outputs": [],
   "source": []
  }
 ],
 "metadata": {
  "kernelspec": {
   "display_name": "Python 3",
   "language": "python",
   "name": "python3"
  },
  "language_info": {
   "codemirror_mode": {
    "name": "ipython",
    "version": 3
   },
   "file_extension": ".py",
   "mimetype": "text/x-python",
   "name": "python",
   "nbconvert_exporter": "python",
   "pygments_lexer": "ipython3",
   "version": "3.7.4"
  }
 },
 "nbformat": 4,
 "nbformat_minor": 2
}
