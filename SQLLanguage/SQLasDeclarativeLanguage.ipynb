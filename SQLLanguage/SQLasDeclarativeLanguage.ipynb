{
 "cells": [
  {
   "cell_type": "markdown",
   "metadata": {},
   "source": [
    "# SQL as Declarative Language"
   ]
  },
  {
   "cell_type": "markdown",
   "metadata": {},
   "source": [
    "SQL is the programming language you need to execute commands that let you create and manipulate a relational database.\n",
    "\n",
    "There are few types of programming out there, procedural(imperatvie), object-oriented, declarative, functional.\n",
    "\n",
    "Although with some procedural elements, SQL is mainly regarded as a declarative programming language, it is non procedural.\n",
    "\n",
    "This means while coding you will not be interested in how you want the job done, the focus is on what results you want to obtain.\n",
    "\n",
    "The procedural and declarative example,\n",
    "\n",
    "Procedural(imperative)        |Declarative(nonprocedural)\n",
    "---                           |---\n",
    "How                           |What\n",
    "Such as C or java             |SQL\n",
    "Must explicity divide the solution of a certain problem into several steps|It wouldn't have to go through the process step by step, the algorithm are built-in, and there is an optimizer, which will separate the task into smaller steps and do the magic to bring the desired output\n",
    "\n",
    "So when using SQL, it should concentrate on what you want to retrieve from the databases."
   ]
  },
  {
   "cell_type": "code",
   "execution_count": null,
   "metadata": {},
   "outputs": [],
   "source": []
  }
 ],
 "metadata": {
  "kernelspec": {
   "display_name": "Python 3",
   "language": "python",
   "name": "python3"
  },
  "language_info": {
   "codemirror_mode": {
    "name": "ipython",
    "version": 3
   },
   "file_extension": ".py",
   "mimetype": "text/x-python",
   "name": "python",
   "nbconvert_exporter": "python",
   "pygments_lexer": "ipython3",
   "version": "3.7.4"
  }
 },
 "nbformat": 4,
 "nbformat_minor": 2
}
