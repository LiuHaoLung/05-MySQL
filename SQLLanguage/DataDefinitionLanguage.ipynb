{
 "cells": [
  {
   "cell_type": "markdown",
   "metadata": {},
   "source": [
    "# Data Definition Language(DDL)"
   ]
  },
  {
   "cell_type": "markdown",
   "metadata": {},
   "source": [
    "SQL syntax, it comprises several types of statements that allow to perform various commands and operations.\n",
    "___\n",
    "\n",
    "### Data Definition Language\n",
    "\n",
    "The Data Definition Language is one type, it is called a language but you can think of it as a syntax, a set of statements that allow the user to define or modify data structures in object such as tables.\n",
    "___\n",
    "\n",
    "#### CREATE\n",
    "\n",
    "One DDL statement is the CREATE statement, as its name suggests, it is used for creating entire databases and database objects as tables.\n",
    "\n",
    "For example, if we want to create a table, we must abide by the following syntax: <code>CREATE object_type object_name</code>,<code>CREATE TABLE object_name(column_name data_type);</code>, as expected, the CREATE statement creates an object with a certain name.\n",
    "\n",
    "In this case, we are creating a table, given we have to assign columns to the table, after specifying the table name with parentheses, we must also indicate the names of the columns and the type of data contained in each column.\n",
    "\n",
    "For this line of code <code>CREATE TABLE sale(purchase_number INT);</code>, it can create a table with the name sales, containing one column called purchase_number, that will store only integer values, it looks like below:\n",
    "\n",
    "sales|\n",
    "---|\n",
    "purchase_number|\n",
    "Interger|\n",
    "\n",
    "Don't worry if the table name coincides with the name we've assigned to the database, on one hand, the syntax will make it clearer when you refer to the database and to the table, on the other hand, it is logical it makes sense for a database to bear the same name as its main table.\n",
    "___\n",
    "\n",
    "#### ALTER\n",
    "\n",
    "The ALTER statement works which is the operation to be carried out when altering existing objects.\n",
    "\n",
    "For example, we can use ALTER to modify a table by adding, removing, or renaming one of the columns in the table.\n",
    "\n",
    "If want to add a column, called data of purchase, it should begin with the same structure as the one used for the CREATE statement, after ALTER, you will be able to designate the object type and its name, after that you are supposed to write down the precise modification.\n",
    "\n",
    "The syntax is below, <code>ALTER TABLE sales;</code>, <code>ADD COLUMN data_of_purchase DATE;</code>.\n",
    "\n",
    "So this means a new column containing the date of the purchase will be added to the table, in addition, the values in this column will be of the DATE type.\n",
    "____\n",
    "\n",
    "#### DROP\n",
    "\n",
    "If want to delete a database object, it can use the DROP statement to do that.\n",
    "\n",
    "For instance, it can delete the entire Customers table with a single line of code, <code>DROP object_type object_name;</code>, <code>DROP TABLE customers;</code>.\n",
    "\n",
    "The DDL statement was accompanied by the object type and its name.\n",
    "___\n",
    "\n",
    "#### RENAME\n",
    "\n",
    "This piece of syntax allow to rename an object like a database table.\n",
    "\n",
    "The syntax is <code>RENAME object_type object_name to new_object_name;</code>, <code>RENAME TABLE customers TO customer_data;</code>.\n",
    "___\n",
    "\n",
    "#### TRUNCATE\n",
    "\n",
    "Instead of deleting an entire table through DROP, it can also remove its data and continue to hava the table as an object in the database.\n",
    "\n",
    "In such a situation, TRUNCATE is the DDL statement that would allow us to do that.\n",
    "\n",
    "The syntax is <code>TRUNCATE object_type object_name;</code>, <code>TRUNCATE TABLE customers;</code>.\n",
    "\n",
    "After executing this clause, all the records from the Customers table will be delete but alough empty the table will continue to exist."
   ]
  },
  {
   "cell_type": "code",
   "execution_count": null,
   "metadata": {},
   "outputs": [],
   "source": []
  }
 ],
 "metadata": {
  "kernelspec": {
   "display_name": "Python 3",
   "language": "python",
   "name": "python3"
  },
  "language_info": {
   "codemirror_mode": {
    "name": "ipython",
    "version": 3
   },
   "file_extension": ".py",
   "mimetype": "text/x-python",
   "name": "python",
   "nbconvert_exporter": "python",
   "pygments_lexer": "ipython3",
   "version": "3.7.4"
  }
 },
 "nbformat": 4,
 "nbformat_minor": 2
}
