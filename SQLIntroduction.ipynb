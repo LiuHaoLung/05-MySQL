{
 "cells": [
  {
   "cell_type": "markdown",
   "metadata": {},
   "source": [
    "# SQL Introduction"
   ]
  },
  {
   "cell_type": "markdown",
   "metadata": {},
   "source": [
    "#### Why study SQL ?\n",
    "\n",
    "Could be working in Business Intelligence, data science, database administration or back-end web development, any of these jobs relate to storing large amounts of data, therefore before carrying out any analysis with the data, you will have to retrieve it.\n",
    "\n",
    "On solve business analytical problems and applying solutions in a software that allows you to extract the desired information from the database, to achieve all this, it need SQL.\n",
    "___\n",
    "\n",
    "#### What is SQL ?\n",
    "\n",
    "SQL means Structured Query Language, it is a programming language specifically designed for working with databases.\n",
    "\n",
    "It allows to create, manipulate and share data, especially data from relational database management systems.\n",
    "\n",
    "The way to tell the computer to extract information from the database for you is by writing queries is SQL.\n",
    "\n",
    "A query is a piece of code inducing the computer to execute a certain operation that will deliver the desired output, this process is called querying the database.\n",
    "\n",
    "SQL is the language that allows you to write queries that the computer can execute and then provide database insights in return."
   ]
  }
 ],
 "metadata": {
  "kernelspec": {
   "display_name": "Python 3",
   "language": "python",
   "name": "python3"
  },
  "language_info": {
   "codemirror_mode": {
    "name": "ipython",
    "version": 3
   },
   "file_extension": ".py",
   "mimetype": "text/x-python",
   "name": "python",
   "nbconvert_exporter": "python",
   "pygments_lexer": "ipython3",
   "version": "3.7.4"
  }
 },
 "nbformat": 4,
 "nbformat_minor": 2
}
