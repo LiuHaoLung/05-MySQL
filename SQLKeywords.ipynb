{
 "cells": [
  {
   "cell_type": "markdown",
   "metadata": {},
   "source": [
    "# SQL Keywords"
   ]
  },
  {
   "cell_type": "markdown",
   "metadata": {},
   "source": [
    "ADD, CREATE, ALTER all are keywords and so on, keywords in SQL can not be variable names.\n",
    "\n",
    "Think of them as words that constitute the language, the SQL software you are using will understand which commands and operations you wish to carry out namely through these words.\n",
    "\n",
    "To avoid any confusion for the software, objects or databases can not have names that coincide with SQL keywords.\n",
    "\n",
    "The CREATE or ALTER are keywords, so it can't call the table alter, since this is a name that can trigger a certain process, the modification of the content of a disignated table.\n",
    "\n",
    "The keywords also called reserved words, it is a synonym for keywords, which indicates precisely can not be used when naming objects."
   ]
  },
  {
   "cell_type": "code",
   "execution_count": null,
   "metadata": {},
   "outputs": [],
   "source": []
  }
 ],
 "metadata": {
  "kernelspec": {
   "display_name": "Python 3",
   "language": "python",
   "name": "python3"
  },
  "language_info": {
   "codemirror_mode": {
    "name": "ipython",
    "version": 3
   },
   "file_extension": ".py",
   "mimetype": "text/x-python",
   "name": "python",
   "nbconvert_exporter": "python",
   "pygments_lexer": "ipython3",
   "version": "3.7.4"
  }
 },
 "nbformat": 4,
 "nbformat_minor": 2
}
