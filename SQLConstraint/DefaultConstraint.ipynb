{
 "cells": [
  {
   "cell_type": "markdown",
   "metadata": {},
   "source": [
    "# Default Constraint"
   ]
  },
  {
   "cell_type": "markdown",
   "metadata": {},
   "source": [
    "It will see it in almost all databases you will work with, it helps us assign a particular default value to every row of a column, a value different from the default can be stored in a field where the DEFAULT constraint has been applied, only if specifically indicated.\n",
    "\n",
    "For instance is the number_of_complaints column in the customers table, it is reasonable to think every new customer has submitted 0 complaints at the moment of registration.\n",
    "\n",
    "Hence it is logical to set the numbers 0 as the default value of this field, theoretically in a create statement when creating the customer's table, the default constraint could be easily added at the end of the row referring to the number_of_complaints field after specifying the name of the column and its data type integer, we must indicate that constraint default, what follows must be the default value, we want to assign, it complying with the data type set.\n",
    "\n",
    "In this case, we must set 0 surrounded by the quotes or even without, for MySQL, in this situation, using single quotes, double quotes or no quotes will be the same, this constraint could be added through an alter statement."
   ]
  },
  {
   "cell_type": "code",
   "execution_count": null,
   "metadata": {},
   "outputs": [],
   "source": []
  }
 ],
 "metadata": {
  "kernelspec": {
   "display_name": "Python 3",
   "language": "python",
   "name": "python3"
  },
  "language_info": {
   "codemirror_mode": {
    "name": "ipython",
    "version": 3
   },
   "file_extension": ".py",
   "mimetype": "text/x-python",
   "name": "python",
   "nbconvert_exporter": "python",
   "pygments_lexer": "ipython3",
   "version": "3.7.4"
  }
 },
 "nbformat": 4,
 "nbformat_minor": 2
}
