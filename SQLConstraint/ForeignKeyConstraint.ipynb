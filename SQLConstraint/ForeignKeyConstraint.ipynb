{
 "cells": [
  {
   "cell_type": "markdown",
   "metadata": {},
   "source": [
    "# Foreign Key Constraint"
   ]
  },
  {
   "cell_type": "markdown",
   "metadata": {},
   "source": [
    "Foreign key is points to a column of another table and, thus, links the two tables.\n",
    "\n",
    "It is a field or collection of fields from one table called the child table and it refers to a column in another table called the parent table.\n",
    "\n",
    "Usually the column or the set of columns in the parent table is the primary key of that table, the child table can also be called the referencing table and the parent table can be called the referenced table.\n",
    "___\n",
    "\n",
    "The primary key of customers is customer_id and the related foreign key is sales table is the same name, this is not an obligatory requirement, these two keys many have tow completely different names, what's important is that the data types and the information match, it's juct commom practice to use, if not the same, then similar names for both keys.\n",
    "\n",
    "So in this case, the customers table is the parent table, also called the referenced table, the sales table is the child table, also called the referencing table.\n",
    "___\n",
    "\n",
    "Remember, a foreign key in SQL is define through foreign key constraint, this type of constraint verifies that the values in the child and parent tables match.\n",
    "\n",
    "Technically speaking, we could say the foreign key contributes to or maintains the referential integrity within the database.\n",
    "___\n",
    "\n",
    "In the file ***ForeignKeyConstraint***, at the foreign key code, <code>ON DELETE CASCADE</code>, CASCADE means you want a certain phenomenon to affect both dependent objects together, and at the same time this phenomenon is designated by the preceding phrase ON DELETE.\n",
    "\n",
    "More precisely the entire constrained ON DELETE CASCASE means that if a specific value from the parent table's primary key has been delected, all the records from the child table referring to this value will be removed as well.\n",
    "\n",
    "The direction is important, for instance if we remove the puchase of customer number 4 from the sales table, we will simply have one less purchase registered in this table and that will not reflect the customers table.\n",
    "\n",
    "However, if we say Catherine WInnfield is not out customer anymore, we'll have to delete customer number 4 from the customer table, using ON DELETE CASCADE effects all dependent objects from the child table which translates into the loss of the data values of the entire record of purchase number 5 and 7 from the sales table.\n",
    "\n",
    "<code>ALTER TABLE sales DROP FOREIGN KEY sales_ibfk_1;</code> it can drop the foreign key in the sales table.\n",
    "___\n",
    "\n",
    "Without the code, click the sales, and click the ALTER table, at this moment, the new window will open on the right side, and you will be able to type the name of a foreign key constraint which pay attention need not coincide with the name of the column, this is just an option for naming the constraint not renaming the column, then could pick the referenced parent table from a list."
   ]
  },
  {
   "cell_type": "code",
   "execution_count": null,
   "metadata": {},
   "outputs": [],
   "source": []
  }
 ],
 "metadata": {
  "kernelspec": {
   "display_name": "Python 3",
   "language": "python",
   "name": "python3"
  },
  "language_info": {
   "codemirror_mode": {
    "name": "ipython",
    "version": 3
   },
   "file_extension": ".py",
   "mimetype": "text/x-python",
   "name": "python",
   "nbconvert_exporter": "python",
   "pygments_lexer": "ipython3",
   "version": "3.7.4"
  }
 },
 "nbformat": 4,
 "nbformat_minor": 2
}
