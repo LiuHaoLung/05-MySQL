{
 "cells": [
  {
   "cell_type": "markdown",
   "metadata": {},
   "source": [
    "# Primary Key Constraint"
   ]
  },
  {
   "cell_type": "markdown",
   "metadata": {},
   "source": [
    "Constraints are a specific rules, or limit, that we define in the tables.\n",
    "\n",
    "The role of constraints is to outline the existing relationships between different in the database.\n",
    "\n",
    "The constraint is like <code>NOT NULL</code> can be assigned to a given column of a table.\n",
    "\n",
    "Primary key, foriegn key and unique key, they define the relationships between tables and designate whether it is possible to see duplicate values in the same column.\n",
    "\n",
    "In abstract terms, it know how these keys work, to apply them in practice, it must define them in SQL through their respective constraints.\n",
    "___\n",
    "\n",
    "In the file ***PrimaryKeyConstraint***, it can not always apply the auto increment extra constraint for a given field, to do that, this field must be a primary key, a unique key or an index.\n",
    "\n",
    "So in this file, it just typed PRIMARY KEY among the constraints relevant to the purchase_number column and everything worked.\n",
    "\n",
    "There is another way to do the same job, in that case, we need not mention the name of the constraint in the purchase_number row, to assign a primary key, we will have to continue the list of elements within the parentheses."
   ]
  },
  {
   "cell_type": "code",
   "execution_count": null,
   "metadata": {},
   "outputs": [],
   "source": []
  }
 ],
 "metadata": {
  "kernelspec": {
   "display_name": "Python 3",
   "language": "python",
   "name": "python3"
  },
  "language_info": {
   "codemirror_mode": {
    "name": "ipython",
    "version": 3
   },
   "file_extension": ".py",
   "mimetype": "text/x-python",
   "name": "python",
   "nbconvert_exporter": "python",
   "pygments_lexer": "ipython3",
   "version": "3.7.4"
  }
 },
 "nbformat": 4,
 "nbformat_minor": 2
}
