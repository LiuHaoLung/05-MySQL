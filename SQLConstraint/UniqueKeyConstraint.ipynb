{
 "cells": [
  {
   "cell_type": "markdown",
   "metadata": {},
   "source": [
    "# Unique Key Constraint"
   ]
  },
  {
   "cell_type": "markdown",
   "metadata": {},
   "source": [
    "Unique key is udes whenever you would like to specify that you don't want to see duplicate data in a given field, they ensure that all values in a column or a set of columns are different.\n",
    "\n",
    "Just like primary and foreign keys, unique keys are implemented in SQL through a constraint, the uniqu constraint.\n",
    "\n",
    "Each data value of a column that has the unique constraint is intended to be unique across an entire column or set of columns.\n",
    "\n",
    "Therefore if you attempt to insert an already existing duplicate value in the unique column, SQL will display an error.\n",
    "\n",
    "For instance, the email address field is unique, because it is impossible to have two identical email addresses.\n",
    "___\n",
    "\n",
    "#### Indexes\n",
    "\n",
    "The unique keys in MySQL will have the same role as indexes, however remember that the reverse isn't true.\n",
    "\n",
    "Think of an index of a table as an organizational unit that helps retrieve data more easily, this also means that records in a table can be accessed more quickly.\n",
    "\n",
    "Of course this doesn't come without a cost, it takes more time to update a table because indexes must be updated, too, and that's time consuming, as a result think of an index as a MySQL tool that can be created in a column which will be frequently used to retrieve information from a table, hence the automatic treatment of a unique key as an index in MySQL."
   ]
  },
  {
   "cell_type": "code",
   "execution_count": null,
   "metadata": {},
   "outputs": [],
   "source": []
  }
 ],
 "metadata": {
  "kernelspec": {
   "display_name": "Python 3",
   "language": "python",
   "name": "python3"
  },
  "language_info": {
   "codemirror_mode": {
    "name": "ipython",
    "version": 3
   },
   "file_extension": ".py",
   "mimetype": "text/x-python",
   "name": "python",
   "nbconvert_exporter": "python",
   "pygments_lexer": "ipython3",
   "version": "3.7.4"
  }
 },
 "nbformat": 4,
 "nbformat_minor": 2
}
