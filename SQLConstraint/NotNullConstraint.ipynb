{
 "cells": [
  {
   "cell_type": "markdown",
   "metadata": {},
   "source": [
    "# Not Null Constraint"
   ]
  },
  {
   "cell_type": "markdown",
   "metadata": {},
   "source": [
    "In the primary key field, all the values must be unique and may not have no values, in the unique key column, all the values must be unique but it is unnecessary to have data in the records, this means you can have no values.\n",
    "\n",
    "The not null restriction is applied through the NOT NULL Constraint, it means that when you insert values in the table, you can not leave the respective field empty, and if you leave it empty, MySQL will signal an error.\n",
    "\n",
    "When add the constraint, after the row corresponding to this name, and specify the data type, then add NOT NULL, by doing this will ensure there will no missing data.\n",
    "\n",
    "When want to drop NOT NULL constraint through the ALTER TABLE statement, the syntax this time shouldn't combine ALTER TABLE with ALTER column, because we won't drop the NOT NULL constraint, in MySQL must MODIFY the constraint to go back to null.\n",
    "\n",
    "Don't confuse a null value with the value of 0 or with the non-respose, instead think of a null value as a missing value, 0 or non could be values assigned by the user, while null is a value assigned by the computer if the user provided no value for a given record."
   ]
  },
  {
   "cell_type": "code",
   "execution_count": null,
   "metadata": {},
   "outputs": [],
   "source": []
  }
 ],
 "metadata": {
  "kernelspec": {
   "display_name": "Python 3",
   "language": "python",
   "name": "python3"
  },
  "language_info": {
   "codemirror_mode": {
    "name": "ipython",
    "version": 3
   },
   "file_extension": ".py",
   "mimetype": "text/x-python",
   "name": "python",
   "nbconvert_exporter": "python",
   "pygments_lexer": "ipython3",
   "version": "3.7.4"
  }
 },
 "nbformat": 4,
 "nbformat_minor": 2
}
