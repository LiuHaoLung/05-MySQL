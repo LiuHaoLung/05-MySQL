{
 "cells": [
  {
   "cell_type": "markdown",
   "metadata": {},
   "source": [
    "# Relational Database Essentials"
   ]
  },
  {
   "cell_type": "markdown",
   "metadata": {},
   "source": [
    "Database, it like a big file where much information is stored, it's not a good answer.\n",
    "\n",
    "There are two main types of databases relational and non-relational.\n",
    "\n",
    "Database main goal is to organize huge amounts of data that can be quickly retrieved upon user's request.\n",
    "\n",
    "Therefore they must be compact, well-structured and efficient in terms of speed and data extraction.\n",
    "\n",
    "Today people need such extra efficienty because data occupies memory space and the bigger it size the more sluggish the database is, and the slower the retrieval process becomes.\n",
    "___\n",
    "\n",
    "#### Relational algebra\n",
    "\n",
    "Imagine each table with data as represented by a transparent circle that contains all the data values of the table, categorized by columns or as we will often call them fields.\n",
    "\n",
    "If the database consisted of only one table, a giant circle would represent the entire database, when we need a piece of information from the database, we will have to lift the whole big circle and then search for what we need.\n",
    "\n",
    "This challenge seems vague in the process of data extraction will not be efficient, see what can happen if we split the circle into three smaller circles.\n",
    "\n",
    "One circle will stand for the sales table, the other for customers and the last one for items.\n",
    "\n",
    "There are various theoretical combinations between three or more circles, but in database we have the following model, sales and customers have the same customer_id, sales and items have the same item_code, this way we can see the circles overlap as they have common fields.\n",
    "\n",
    "So if we'd like to extract the same information the name of the customers who have purchased something on a given date, we will need only the date_of_purchase from the sales table and the first and last_name from the customers table, so it will not need to lift the third circle from the database items, it can increase the efficiency.\n",
    "\n",
    "The mathematical trick lies in relating the tables to one another, relationships were formed namely through these common fields.\n",
    "\n",
    "3 tables equal the 3 relations, because theoretically they are the smallest units in the entire system that can carry integral logical meaning.\n",
    "\n",
    "Likewise the three circles are all part of the sales database, when we combine the database and its existing relations, we obtain the famous term relational database management system, RDBMS. "
   ]
  },
  {
   "cell_type": "code",
   "execution_count": null,
   "metadata": {},
   "outputs": [],
   "source": []
  }
 ],
 "metadata": {
  "kernelspec": {
   "display_name": "Python 3",
   "language": "python",
   "name": "python3"
  },
  "language_info": {
   "codemirror_mode": {
    "name": "ipython",
    "version": 3
   },
   "file_extension": ".py",
   "mimetype": "text/x-python",
   "name": "python",
   "nbconvert_exporter": "python",
   "pygments_lexer": "ipython3",
   "version": "3.7.4"
  }
 },
 "nbformat": 4,
 "nbformat_minor": 2
}
