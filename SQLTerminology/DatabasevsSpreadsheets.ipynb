{
 "cells": [
  {
   "cell_type": "markdown",
   "metadata": {},
   "source": [
    "# Database vs Spreadsheets"
   ]
  },
  {
   "cell_type": "markdown",
   "metadata": {},
   "source": [
    "Data tables, databases and excel spreadsheets are different things.\n",
    "___\n",
    "\n",
    "#### Spreadsheets\n",
    "\n",
    "Spreadsheet is an electronic ledger, an electronic version of paper accounting worksheets.\n",
    "\n",
    "It was created to facilitate people who needed to store their accounting information in tabular form digitally, so it is possible to create tables in a spreadsheet.\n",
    "\n",
    "Every cell is treated as a unique entity, it can stor any type of information, a date, an integer value, a string name and so on, not only can have different types of values in various cells but we can also apply a specific format to these cells, this is not inherent to database.\n",
    "\n",
    "In the spreadsheet data can be stored in a cell, and it can formatiing.\n",
    "\n",
    "In the spreadsheet different cells can contain calculations such functions and formulas, this mean if you want to combine two integers, the result will be stored in another cell.\n",
    "\n",
    "Excel isn't capable of handling over 1 million rows of data, this immediately induces us to look for a solution.\n",
    "\n",
    "Referring to the multi-user property, spreadsheet are lagging, essentially every person must update their own spreadsheet with new data, for instance if there is a new purchase to register or a last name in the customer's table to correct, every user must make these changes manually, and it might have trouble finding out who changed or deleted information incorrectly which often leads to a cumbersome situation where people hava a hard time organizing their tasks.\n",
    "\n",
    "The spreadsheet allows us to carry out extensive analysis.\n",
    "\n",
    "___\n",
    "\n",
    "#### Database\n",
    "\n",
    "The database can only contain raw data, each cell is a container of a single data value, it is the smallest piece of information there is.\n",
    "\n",
    "You must preset the type of data contained in a certain field, this feature prevents inadvertent mistakes.\n",
    "\n",
    "For example, in a field containing date values should the user try to insert a string, the software will show an error and will have the chance to correct it.\n",
    "\n",
    "This won't happen in excel, if you insert a string in the column with the date values, you wouldn't obtain an error message, in excel will store the string value.\n",
    "\n",
    "Database, data is stored in a record of a table, meaning you must count the records in a table to express how long the data table is not the number of the cells and that is it.\n",
    "\n",
    "You can not pick a font color or size, all you care about is the information being stored, and don't care about the formatting.\n",
    "\n",
    "In a database all calculations and operations are based on the existing data and are done after it's retrieval, there is a specific feature called views, similar to the tables in which you can do a calculation, these object also contain columns that can mean normal columns like the ones in the tables or could contain a certain type of calculation, there is no way you can mistake a record of data with a calculation.\n",
    "\n",
    "The database feature improved data integrity, you can store different types of data in the same field and it is unlikely someone will mistake a data value for an outcome of a calculation especially in large data sets.\n",
    "\n",
    "Data integrity is a strong advantage when working with databases, and the database can having more than 1 million rows is not a problem.\n",
    "\n",
    "In the DCL that databases provide a stable structure controlling access permissions and user restrictions.\n",
    "\n",
    "One person can make a change that is visible to everybody instantly, this features increases efficiency and data consistency when using databases.\n",
    "\n",
    "Considering data integrity and data consistency, using databases eliminates duplicate information which is another way to save space and increase efficiency.\n",
    "\n",
    "Databases are a better environment for storing and keeping track of data when working with multiple dimensions and large amounts of data.\n",
    "\n",
    "For easy retrieval of data, updating of data, efficiency, data consistency, data integrity, speed and security, relational databases are definitely the structure to opt for, they can store lots of raw data and are excellent when separating the data from the way it is displayed for analysis.\n",
    "___\n",
    "\n",
    "#### Database vs Spreadsheets\n",
    "\n",
    "This is one reason some people believe spreadsheets and databases are interchangeable while in reality they aren't, there are similarities between the two.\n",
    "\n",
    "Both can contain a large amount of tabular data and can use existing data to make calculations, neither spreadsheets nor databases are typically used by a single person, so many users will work with the data.\n",
    "\n",
    "The differences between the two forms of data storage lie in the way these three characteristics are implemented.\n",
    "\n",
    "Another substantial difference is functions and formulas."
   ]
  },
  {
   "cell_type": "code",
   "execution_count": null,
   "metadata": {},
   "outputs": [],
   "source": []
  }
 ],
 "metadata": {
  "kernelspec": {
   "display_name": "Python 3",
   "language": "python",
   "name": "python3"
  },
  "language_info": {
   "codemirror_mode": {
    "name": "ipython",
    "version": 3
   },
   "file_extension": ".py",
   "mimetype": "text/x-python",
   "name": "python",
   "nbconvert_exporter": "python",
   "pygments_lexer": "ipython3",
   "version": "3.7.4"
  }
 },
 "nbformat": 4,
 "nbformat_minor": 2
}
