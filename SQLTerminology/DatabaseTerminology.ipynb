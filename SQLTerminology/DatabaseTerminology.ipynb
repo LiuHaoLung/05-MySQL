{
 "cells": [
  {
   "cell_type": "markdown",
   "metadata": {},
   "source": [
    "# Database Terminology"
   ]
  },
  {
   "cell_type": "markdown",
   "metadata": {},
   "source": [
    "Assume the database containing customer cells data has not been set up yet.\n",
    "\n",
    "So imagine you are the shop owner and you realize you have been selling goods quite well recently and you have more than a million rows of data.\n",
    "\n",
    "What do you need then a database, but you know nothing about databases, you need a database designer.\n",
    "\n",
    "The database designer will be in charge of deciding how to organize the data into tables and how to set up the relations between these tables.\n",
    "\n",
    "This step is crucial, if the database design is not perfect from the beginning, the system will be difficult to work with and wouldn't facilitate the business needs.\n",
    "\n",
    "It will have to start over again, considering the time and data and money involved in the process, you want to avoid going back to 0.\n",
    "___\n",
    "\n",
    "#### Database design - Entity relationship diagram\n",
    "\n",
    "Database designer, they plot the entire database system on a canvas using a visualization tool, there are two main way to do that, one is drawing an entity relationship diagram(ER diagram for brief).\n",
    "\n",
    "And its name suggests, the different figures represent different data entities and the specific relationships it have between entities, the connections between tables are indicated with lines, this way of representing database is powerful and professional but it is complicated.\n",
    "___\n",
    "\n",
    "#### Database design - Relational schema\n",
    "\n",
    "Another form of representation of a database is the relational schema, this is an existing idea of how the database must be organized.\n",
    "\n",
    "It is useful when you are certain of the structure and organization of the database you would like to create.\n",
    "\n",
    "It represents a table in the shape of a rectangle, the name of the tables at the top of the rectangle, the columns names are listed below.\n",
    "\n",
    "All relational schema is in a database form the database schema, it also using the lines indicating how tables are related in the database.\n",
    "___\n",
    "\n",
    "#### Database creation\n",
    "\n",
    "Database creation has been ideas planning abstract thinking and design, at this stage it would be correct to say SQL can be uses to set up the database physically, as opposed to contriving it abstractly then you can enjoy the advantages of data manipulation.\n",
    "___\n",
    "\n",
    "#### Database manipulation\n",
    "\n",
    "Database manipulation will allow you to use the data set to extract business insights that aim to improve the performance and efficiency of the business you are working for.\n",
    "\n",
    "Well thought out databases that are carefully designed and create are crucial prerequisites for data manipulation.\n",
    "___\n",
    "\n",
    "#### Database management\n",
    "\n",
    "The database design + creation + manipulation means the database management, it means it comprises all the steps, a business undertakes to design create and manipulated databases successfully.\n",
    "\n",
    "____\n",
    "\n",
    "#### Database administration\n",
    "\n",
    "Database administration is the most frequently encountered job amongst all, a database administrator is a person providing daily care and maintenance of a database, it scope of responsibilities is narrower regarding the ones carried out by a database manager but it still indispensable for the database department of a company."
   ]
  }
 ],
 "metadata": {
  "kernelspec": {
   "display_name": "Python 3",
   "language": "python",
   "name": "python3"
  },
  "language_info": {
   "codemirror_mode": {
    "name": "ipython",
    "version": 3
   },
   "file_extension": ".py",
   "mimetype": "text/x-python",
   "name": "python",
   "nbconvert_exporter": "python",
   "pygments_lexer": "ipython3",
   "version": "3.7.4"
  }
 },
 "nbformat": 4,
 "nbformat_minor": 2
}
