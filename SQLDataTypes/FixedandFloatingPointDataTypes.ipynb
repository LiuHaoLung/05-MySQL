{
 "cells": [
  {
   "cell_type": "markdown",
   "metadata": {},
   "source": [
    "# Fixed & Floating Point Data Types"
   ]
  },
  {
   "cell_type": "markdown",
   "metadata": {},
   "source": [
    "#### Precision\n",
    "\n",
    "Precision refers to the number of digits in a number, for instance the number is 10.523, has precision 5.\n",
    "___\n",
    "\n",
    "#### Scale\n",
    "\n",
    "Scale refers to the number of digits to the right of the decimal point in a number, for instance the number is 10.523, has scale 3.\n",
    "___\n",
    "\n",
    "Often you will see a data type succeeded by a pair of numbers with in parentheses, like DECIMAL(5,3), the first one indicates the precision of the number and the second one is scale, therefore a data type of this will be related to such numbers as 10.523 or 36.875.\n",
    "___\n",
    "\n",
    "#### Fixed-point data \n",
    "\n",
    "Fixed-point data represent exact values, decimal is a good example of this type, DECIMAL(5,3) will contain a value with a total of 5 digits, 3 of which will be after the decimal.\n",
    "\n",
    "If you insert 10.5, SQL will fill up the number with 0s, so 10.5 would automatically become 10.500, however if you insert a number with a large precision such as 10.5236789, SQL will round this number to a value that complies with the indicated structure, 10.524, in this case, you will see the warning, this is just SQL behaves.\n",
    "\n",
    "Furthermore, when only 1 digits is specified within the parentheses it will be treated as the precision of the data type, for instance DECIMAL(7) would be the same as writing DECIMAL(7,0), and will require an integer written with that most 7 digits.\n",
    "\n",
    "It shouldn't forget to mention that DECIMAL has a synonymous data type, it called NUMERIC.\n",
    "___\n",
    "\n",
    "####  Floating-point data\n",
    "\n",
    "It is used for approximate values only and aims to balance between range and precision.\n",
    "\n",
    "The insertion of the same number 10.5236789 will be 10.524, will not give ua a warning, instead the number will be rounded to a new one with only three digits after the decimal point, that is SQL will store this data as 10.524 which is an approximate value.\n",
    "\n",
    "FLOAT in DOUBLE or floating data types, the difference between the two lies in the capability of storing data within a memory storage limit and of course this distinction is purely technical.\n",
    "\n",
    "Floating-point data type |Size(bytes)   |Precision   |Maximum number of digits\n",
    "---                      |---           |---         |---\n",
    "FLOAT                    |4             |Singel      |23 digits can be used to represent a value\n",
    "DOUBLE                   |8             |Double      |53 digits can be used to represent a value\n",
    "\n",
    "___\n",
    "\n",
    "#### Fixed-point data different Floating-point data\n",
    "\n",
    "The main difference bwtween the fixed-point and floating-point type is in the way the value is represented in the memory of the computer, as either a fixed-point type of a floating-point type, in addition the former will provide a warning whenever its structure is not respected while the latter won't."
   ]
  },
  {
   "cell_type": "code",
   "execution_count": null,
   "metadata": {},
   "outputs": [],
   "source": []
  }
 ],
 "metadata": {
  "kernelspec": {
   "display_name": "Python 3",
   "language": "python",
   "name": "python3"
  },
  "language_info": {
   "codemirror_mode": {
    "name": "ipython",
    "version": 3
   },
   "file_extension": ".py",
   "mimetype": "text/x-python",
   "name": "python",
   "nbconvert_exporter": "python",
   "pygments_lexer": "ipython3",
   "version": "3.7.4"
  }
 },
 "nbformat": 4,
 "nbformat_minor": 2
}
