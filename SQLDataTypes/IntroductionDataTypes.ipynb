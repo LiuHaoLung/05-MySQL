{
 "cells": [
  {
   "cell_type": "markdown",
   "metadata": {},
   "source": [
    "# Introduction Data Types"
   ]
  },
  {
   "cell_type": "markdown",
   "metadata": {},
   "source": [
    "It must always specify the type of the data that will inserted in each column of the table.\n",
    "\n",
    "Different data types represent different of information that can be contained in a specific column.\n",
    "\n",
    "There are a few measures that characterize a data types, like to store the surname of person in one of the column of a table, it will use the string data type, for instance 'James' is a string, a length is a measure used to indicate how many symbols a certain string has, so the 'James' has a length of 5 symbols.\n",
    "\n",
    "Digits, symbols, or blank spaces can also be used in the string format, it is very important to note one thing though, no mathematical operations will be executable within a string, they will only convey text information.\n",
    "\n",
    "Another characteristic need to understand is size, it indicates the memory space used by a data type and is measured in bytes, it can think of a byte as the approximate space 1 symbol will require from the memory, so in the instances, the 'James' have 5 symbols, and the size of 5 bytes.\n",
    "\n",
    "Finally consider storage as the physical space in the computer drive's memory, where the data is being saved or stored."
   ]
  }
 ],
 "metadata": {
  "kernelspec": {
   "display_name": "Python 3",
   "language": "python",
   "name": "python3"
  },
  "language_info": {
   "codemirror_mode": {
    "name": "ipython",
    "version": 3
   },
   "file_extension": ".py",
   "mimetype": "text/x-python",
   "name": "python",
   "nbconvert_exporter": "python",
   "pygments_lexer": "ipython3",
   "version": "3.7.4"
  }
 },
 "nbformat": 4,
 "nbformat_minor": 2
}
