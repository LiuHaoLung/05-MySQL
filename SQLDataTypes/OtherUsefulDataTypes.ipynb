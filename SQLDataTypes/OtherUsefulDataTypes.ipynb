{
 "cells": [
  {
   "cell_type": "markdown",
   "metadata": {},
   "source": [
    "# Other Useful Data Types"
   ]
  },
  {
   "cell_type": "markdown",
   "metadata": {},
   "source": [
    "SQL allows you to store data that represents a date, time, binary or list of options amongst others.\n",
    "___\n",
    "\n",
    "#### DATE & DATETIME\n",
    "\n",
    "Date is used to represent a date in the format YYYY-MM-DD, using 4, 2 and 2 digits respectively, time is not part of this representation, hence the range of date is huge, it is between the 1st of January 1000 - 31th of December 9999, it seems that this data type is eternal.\n",
    "\n",
    "If storing the date in a record doesn't suffice and we must store time as well, DATE + TIME = DATETIME, next to the date, we could save the time, showing the following format, YYYY-MM-DD HH:MM:SS, or we can even have fractional second parding up to micro-seconds with six digit percision.\n",
    "\n",
    "The DATETIME as representing the data shown on the calender and the time shown on the clock.\n",
    "____\n",
    "\n",
    "#### TIMESTAMP\n",
    "\n",
    "TIMESTAMP is used for well-defined, exact point in time, primarily the range of TIMESTAMP is much lower from the 1st of January 1940 to 19th of January 2038, 03:14:07 UTC.\n",
    "\n",
    "TIMESTAMP will not be the preferred option for storing birth dates and times, as DATE and DATETIME appear to be the better option.\n",
    "\n",
    "What is the advantage of using it, TIMESTAMP records the moment in times as the number of seconds passed after the 1st of January 1970 00:00:00 UTC, so for instance the 25th of July 2018 will be equal to more than 48 years or 1535155200 to be precise.\n",
    "\n",
    "Professionals would love to discuss storage space and processing speed differences between TIMESTAMP and DATETIME.\n",
    "\n",
    "First, representing a moment in time as a number allows you to easily obtain the difference between two TIMESTAMP values, so for instance, if you know that the start time of an event is the 25th of July 09:00:00 in the morning, and that the end time in the same day, 25th of July 9 10:30:00, and if you have store both moments and TIMESTAMP, you can subtract the first value out of the second value and obtain the duration of the event.\n",
    "\n",
    "The second advantages stems from the first one, TIMESTAMP is appropriate if you need to handle time zones, something DATATIME is not capable of doing.\n",
    "___\n",
    "\n",
    "Please remember that with such string times as CHAR, VARCHAR, DATE, DATETIME and TIMESTAMP, data and SQL well must be written within quotes allowing it to properly process the respective values, only numeric values are written without quotes.\n",
    "___\n",
    "\n",
    "#### BLOB\n",
    "\n",
    "BLOB, it is derived Binary Large Object, referring to a file of binary data, that means data with 1s and 0s, stored as a single entity in a relational database management system.\n",
    "\n",
    "Put simply, this data type involves saving files in a record as opposed to saving data values, typical file formats that fall under the BLOB category like .doc, .xlsx, .xml, .jpg, .wav and so on."
   ]
  },
  {
   "cell_type": "code",
   "execution_count": null,
   "metadata": {},
   "outputs": [],
   "source": []
  }
 ],
 "metadata": {
  "kernelspec": {
   "display_name": "Python 3",
   "language": "python",
   "name": "python3"
  },
  "language_info": {
   "codemirror_mode": {
    "name": "ipython",
    "version": 3
   },
   "file_extension": ".py",
   "mimetype": "text/x-python",
   "name": "python",
   "nbconvert_exporter": "python",
   "pygments_lexer": "ipython3",
   "version": "3.7.4"
  }
 },
 "nbformat": 4,
 "nbformat_minor": 2
}
