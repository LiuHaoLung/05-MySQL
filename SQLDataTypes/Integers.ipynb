{
 "cells": [
  {
   "cell_type": "markdown",
   "metadata": {},
   "source": [
    "# Integers"
   ]
  },
  {
   "cell_type": "markdown",
   "metadata": {},
   "source": [
    "The text is not the only one you want to insert in the table, often you will need to use the data type that allows you to stroe numbers, numbers are stored in so-called numeric data types.\n",
    "___\n",
    "\n",
    "#### Integers\n",
    "\n",
    "They are whole numbers with no decimal point number, the integer or INT allows us to insert integers into tables.\n",
    "\n",
    "There are few subcategories of data type and they are provided in the table you see here.\n",
    "\n",
    "Numeric data type   |Size(bytes)|Minimum value(signed)|Maximun value(Signed)|Minimum value(unsigned)|Maximun value(unSigned)\n",
    "---                 |---        |---                  |---                  |---                    |---\n",
    "TINYINT             |1          |-128                 |127                  |0                      |255\n",
    "SMALLINT            |2          |-32768               |32767                |0                      |65535\n",
    "MEDIUMINT           |3          |-8388608             |8388607              |0                      |16777215\n",
    "INT                 |4          |-2147483648          |2147483647           |0                      |4294967295\n",
    "BIGINT              |8          |-9223372036854775808 |9223372036854775807  |0                      |18446744073709551615\n",
    "\n",
    "___\n",
    "\n",
    "#### Signed vs Unsigned values\n",
    "\n",
    "If the uncompressed range includes both positive and negative values, the latter of course being signed with a minus, we are in the signed form of representation.\n",
    "\n",
    "If we allow integers to be only positive, logically we will need unsigned values.\n",
    "___\n",
    "\n",
    "Remember integer data types are signed by default, put differently SQL assume you are to refer to the upper representation of the given type, the one including both positive and negative in the range.\n",
    "\n",
    "If you want to ues a range containing only positive, unsigned values you would have to specify this in your query.\n",
    "___\n",
    "\n",
    "#### Why not just use BIGINT all the time?\n",
    "\n",
    "It is the largest interval available for integers, the answer comes with the idea of improving efficiency in terms of computer processing speed.\n",
    "\n",
    "If you are sure that, in a certain column, you won't need an integers smaller than 0 or greater than 100, TINYINT would do the job perfectly and you would not need more storage space per data point."
   ]
  },
  {
   "cell_type": "code",
   "execution_count": null,
   "metadata": {},
   "outputs": [],
   "source": []
  }
 ],
 "metadata": {
  "kernelspec": {
   "display_name": "Python 3",
   "language": "python",
   "name": "python3"
  },
  "language_info": {
   "codemirror_mode": {
    "name": "ipython",
    "version": 3
   },
   "file_extension": ".py",
   "mimetype": "text/x-python",
   "name": "python",
   "nbconvert_exporter": "python",
   "pygments_lexer": "ipython3",
   "version": "3.7.4"
  }
 },
 "nbformat": 4,
 "nbformat_minor": 2
}
