{
 "cells": [
  {
   "cell_type": "markdown",
   "metadata": {},
   "source": [
    "# String Data Types"
   ]
  },
  {
   "cell_type": "markdown",
   "metadata": {},
   "source": [
    "String is the text format in SQL, data formats dealing with this information of this type also called alphanumeric data types.\n",
    "\n",
    "There are few string data types in SQL, they are quite similar with the main difference being the storage required to save them.\n",
    "___\n",
    "\n",
    "#### Character\n",
    "\n",
    "First one is Character, the keyword is CHAR, it is a string type, that demands fixed storage regardless of the length of the value you are assigning to it, example CHAR(5), this number 5 represents the maximum number of symbols you are allowed to use in writing a value in this format, so if the column value is 'James', which consists of 5 symbols will require storage of 5 bytes, if instead type 'Bob' which consists 3 symbols but the storage will still be 5 bytes.\n",
    "\n",
    "___\n",
    "\n",
    "#### Variable Character\n",
    "\n",
    "Another frequently employed string data type is varchar, it's named derives from variable character, the variable pare regards the storage space needed unlike char, varchar will respond to change in the length of the string that has been inserted.\n",
    "\n",
    "Hence if varchar(5), and this column is 'James', the symbols are 5 and the length is 5, and the storage will be 5 bytes, if type 'Bob', the length is 3 and the storage will be 3 bytes.\n",
    "\n",
    "In other words, you indicate the maximum storage a varchar can occupy, such maximum storage could decrease, it is not fixed, as is the case with the char type.\n",
    "___\n",
    "\n",
    "A further distinct between the two formats is:\n",
    "\n",
    "String data type    |Keyword     |Maximum size       \n",
    "---                 |---         |---                \n",
    "Character           |CHAR        |255\n",
    "Variable character  |VARCHAR     |much longer, 65535 \n",
    "\n",
    "Considering the fact that varchar is a lot more responsive to the data value inserted, also varchar would require smaller storage if the value inserted is shorter than the defined maximum size.\n",
    "\n",
    "The reason is strictly technical and it concerns mainly advanced users when processing data char is 50% faster than varchar.\n",
    "___\n",
    "\n",
    "#### Enumerate\n",
    "\n",
    "Its name is enim derived from enumerate, it is particularly handy when you know in advance what type of columns you will be working with.\n",
    "\n",
    "For example, if in a certain column you went to insert the gender of a person, you should specify possible values of M and F, then MySQL will show an error if you attempt to insert any value different from M or F, this string data format is not used as frequently as the previous 2 but sometimes you will really love the face that it is there and can be applied readily. "
   ]
  },
  {
   "cell_type": "code",
   "execution_count": null,
   "metadata": {},
   "outputs": [],
   "source": []
  }
 ],
 "metadata": {
  "kernelspec": {
   "display_name": "Python 3",
   "language": "python",
   "name": "python3"
  },
  "language_info": {
   "codemirror_mode": {
    "name": "ipython",
    "version": 3
   },
   "file_extension": ".py",
   "mimetype": "text/x-python",
   "name": "python",
   "nbconvert_exporter": "python",
   "pygments_lexer": "ipython3",
   "version": "3.7.4"
  }
 },
 "nbformat": 4,
 "nbformat_minor": 2
}
