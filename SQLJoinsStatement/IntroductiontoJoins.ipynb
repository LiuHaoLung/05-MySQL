{
 "cells": [
  {
   "cell_type": "markdown",
   "metadata": {},
   "source": [
    "# Introduction to Joins"
   ]
  },
  {
   "cell_type": "markdown",
   "metadata": {},
   "source": [
    "Joins are the SQL tool that allow us to construct a relationship between objects, and relational schema are the perfect tool that will help you find a strategy for linking tables.\n",
    "\n",
    "Technically a JOIN shows a result set containing fields derived from two or more talbes, so in the database employees, it can use JOIN to relate the employees and the dept_emp table then extract information, like emp_no, first_name and last_name from employees table and dept_no and from_date of the contract from the dept_emp table.\n",
    "\n",
    "The idea of using JOIN is towfold, first we must find a related column from the two tables that contains the same type of data, in the case from employees, this can be the emp_no column, this technique would then allow us to extract information from the two tables, under certain conditions based on the emp_no column.\n",
    "\n",
    "Second we will be free to add columns from these two tables to our output, in the example, the emp_no, first_name, last_name, dept_no and from_date.\n",
    "\n",
    "The columns you use to relate tables must represent the same object, such as id, but the tables you are considering need not be logically adjacent in the relational schema.\n",
    "\n",
    "An example of two logically adjacent talbes are the employees and dept_manager, employees and titles, dept_manage and dept_emp are not logically adjacent, but this means they can be joined too, and won't have to indicate the relationship that goes through the employees table and the emp_no key, or through departments and the dept_no key, what is important is you have found a related column connecting the two tables."
   ]
  },
  {
   "cell_type": "code",
   "execution_count": null,
   "metadata": {},
   "outputs": [],
   "source": []
  }
 ],
 "metadata": {
  "kernelspec": {
   "display_name": "Python 3",
   "language": "python",
   "name": "python3"
  },
  "language_info": {
   "codemirror_mode": {
    "name": "ipython",
    "version": 3
   },
   "file_extension": ".py",
   "mimetype": "text/x-python",
   "name": "python",
   "nbconvert_exporter": "python",
   "pygments_lexer": "ipython3",
   "version": "3.7.4"
  }
 },
 "nbformat": 4,
 "nbformat_minor": 2
}
