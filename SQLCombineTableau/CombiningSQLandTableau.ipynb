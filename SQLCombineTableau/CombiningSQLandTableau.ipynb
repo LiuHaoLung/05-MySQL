{
 "cells": [
  {
   "cell_type": "markdown",
   "metadata": {},
   "source": [
    "# Combining SQL and Tableau"
   ]
  },
  {
   "cell_type": "markdown",
   "metadata": {},
   "source": [
    "Tableau is highly intuitive software that is easy to understand, its goal is to help users project their data by offering a huge variety of data visualization tools to choose from, moreover this can happen very quickly just by dragging and dropping the relevant objects you see on the interface and that can be a relatively easy operation.\n",
    "\n",
    "If analysts have their data organized in a proper format, however that's rarely the case in real life, its namely SQL that can help us overcome this problem and it does so in multiple ways.\n",
    "___\n",
    "\n",
    "#### Union of data\n",
    "\n",
    "Union of data, it is true that in todays versions of Tableau, you can create all sorts of joines, inner, left, right, outer and union.\n",
    "\n",
    "However, you could also use Tableau custom SQL option which is something like a gateway to the data on your server to access your database through Tableau and extract the exacy query output you'll need for your analysis.\n",
    "___\n",
    "\n",
    "#### Stored procedures\n",
    "\n",
    "Stored procedures, SQL stored procedures allows you to apply complex table calculations, that can achieve a much better performance if run on the SQL server rather than on the Tableau in memory engine.\n",
    "\n",
    "In face, the Tableau is suitable for similar types of calculations when only using a smaller dataset.\n",
    "\n",
    "Therefore, knowledge of stored procedures is another valuable tool when working with Tableau.\n",
    "___\n",
    "\n",
    "#### Re-organizing the data in a prope format for analysis\n",
    "\n",
    "Reorganizing the data in a proper format for analysis, sometimes you won't be able to store the data in a clean format, so you'll need to preprocess it before analysis.\n",
    "\n",
    "Tableau is not the best place to complete the preprocessing step, preprocesing on a database level instead, is associated with much better performance, while doing this once more, SQL turns out to be the boss, therefore working on database level by using SQL or custom SQL, a person can for example convert data from columns to rows, change the format of data values, thus preparing the data for analysis in Tableau, so in general, knowledge in SQL can help you a great deal while working with Tableau when preparing the data for analysis, also it is a very powerful tool when you need to make calculations that you will use to create beautiful and meaningful visualizations."
   ]
  },
  {
   "cell_type": "code",
   "execution_count": null,
   "metadata": {},
   "outputs": [],
   "source": []
  }
 ],
 "metadata": {
  "kernelspec": {
   "display_name": "Python 3",
   "language": "python",
   "name": "python3"
  },
  "language_info": {
   "codemirror_mode": {
    "name": "ipython",
    "version": 3
   },
   "file_extension": ".py",
   "mimetype": "text/x-python",
   "name": "python",
   "nbconvert_exporter": "python",
   "pygments_lexer": "ipython3",
   "version": "3.7.4"
  }
 },
 "nbformat": 4,
 "nbformat_minor": 2
}
