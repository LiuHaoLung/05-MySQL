{
 "cells": [
  {
   "cell_type": "markdown",
   "metadata": {},
   "source": [
    "# Wildcard Characters"
   ]
  },
  {
   "cell_type": "markdown",
   "metadata": {},
   "source": [
    "The <code>%, _, *</code> are all called wildcard characters, it boils down to the fact that you would need wildcard character whenever you wish to put anything on its place.\n",
    "\n",
    "Something like taking a wild guess about the data or the symbols that will appear in the output after we execute the query.\n",
    "\n",
    "Regarding the LIKE operator, the <code>%</code> is more frequently used than the <code>_</code>, they both contain the functionality of a wildcard character, if you don't know the sequence of characters to use after the string of letters, the <code>%</code> sign will be used as a substitute, if you are wonder a singel letter succeeding, the <code>_</code> will provide the potential outcome wildly.\n",
    "\n",
    "While the <code>%</code> and <code>_</code> are used for string values, the <code>*</code> encompasses a broader meaning, it will deliver a list of all columns in a table."
   ]
  },
  {
   "cell_type": "code",
   "execution_count": null,
   "metadata": {},
   "outputs": [],
   "source": []
  }
 ],
 "metadata": {
  "kernelspec": {
   "display_name": "Python 3",
   "language": "python",
   "name": "python3"
  },
  "language_info": {
   "codemirror_mode": {
    "name": "ipython",
    "version": 3
   },
   "file_extension": ".py",
   "mimetype": "text/x-python",
   "name": "python",
   "nbconvert_exporter": "python",
   "pygments_lexer": "ipython3",
   "version": "3.7.4"
  }
 },
 "nbformat": 4,
 "nbformat_minor": 2
}
