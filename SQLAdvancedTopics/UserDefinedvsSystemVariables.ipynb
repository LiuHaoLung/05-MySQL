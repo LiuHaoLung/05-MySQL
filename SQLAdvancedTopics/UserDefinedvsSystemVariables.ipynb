{
 "cells": [
  {
   "cell_type": "markdown",
   "metadata": {},
   "source": [
    "# User Defined vs System Variables"
   ]
  },
  {
   "cell_type": "markdown",
   "metadata": {},
   "source": [
    "Variables in MySQL can be characterized accroding to the way they have been created, they can either user-defined or system variables.\n",
    "\n",
    "The first one, user-defined, that can be set by the user manually, while the second one refers to variables that are pre-defined on the system, the MySQL server.\n",
    "\n",
    "Type           |LOCAL    |SESSIOn      |GLOBAL\n",
    "---            |---      |---          |---\n",
    "User-defined   |Yes      |Yes          |No\n",
    "System         |No       |Yes          |Yes\n",
    "\n",
    "Both user-defined and system variables can be set as session variables, but there are limitations to this rule, some of the system variables can be defined as global only, they cannot be session variables, and max_connection is one.\n",
    "\n",
    "A user can defiend a local variable or a session variable, system variable can be set as session variables or as global variables, however not all system variables can be set as session.\n",
    "\n",
    "There are two types of system variables, the one like sql_mode which could be said either as a session or global variable, and the one like max_connections that can be set as GLOBAL only."
   ]
  },
  {
   "cell_type": "code",
   "execution_count": null,
   "metadata": {},
   "outputs": [],
   "source": []
  }
 ],
 "metadata": {
  "kernelspec": {
   "display_name": "Python 3",
   "language": "python",
   "name": "python3"
  },
  "language_info": {
   "codemirror_mode": {
    "name": "ipython",
    "version": 3
   },
   "file_extension": ".py",
   "mimetype": "text/x-python",
   "name": "python",
   "nbconvert_exporter": "python",
   "pygments_lexer": "ipython3",
   "version": "3.7.4"
  }
 },
 "nbformat": 4,
 "nbformat_minor": 2
}
