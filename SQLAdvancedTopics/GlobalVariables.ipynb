{
 "cells": [
  {
   "cell_type": "markdown",
   "metadata": {},
   "source": [
    "# Global Variables"
   ]
  },
  {
   "cell_type": "markdown",
   "metadata": {},
   "source": [
    "The global variables in MySQL will have a scope that is broafer than the one of session variables.\n",
    "\n",
    "Global variables, apply to all connections related to a specific server.\n",
    "\n",
    "If you would like to indicate you are creating a global variable, the syntax <code>SET GLOBAL var_name = value;</code>, or <code>SET @@GLOBAL.var_name = value;</code>.\n",
    "\n",
    "However, you can not set just any variable as global, s specific group of pre-defined vairables in MySQL is suitable for this job, they are called system variables.\n",
    "\n",
    "Example of system variables is <code>.max_connections()</code>, this means the maximum number of connections to a server that can be established at a certaion point in time, or <code>.max_join_size()</code>, this means sets the maximum memory space allocated for the joins created by a certain connection."
   ]
  },
  {
   "cell_type": "code",
   "execution_count": null,
   "metadata": {},
   "outputs": [],
   "source": []
  }
 ],
 "metadata": {
  "kernelspec": {
   "display_name": "Python 3",
   "language": "python",
   "name": "python3"
  },
  "language_info": {
   "codemirror_mode": {
    "name": "ipython",
    "version": 3
   },
   "file_extension": ".py",
   "mimetype": "text/x-python",
   "name": "python",
   "nbconvert_exporter": "python",
   "pygments_lexer": "ipython3",
   "version": "3.7.4"
  }
 },
 "nbformat": 4,
 "nbformat_minor": 2
}
