{
 "cells": [
  {
   "cell_type": "markdown",
   "metadata": {},
   "source": [
    "# Local Variables"
   ]
  },
  {
   "cell_type": "markdown",
   "metadata": {},
   "source": [
    "Scope, means the region of a computer program where a phenomenon, such as a variable, is considered valid, variable could be relevant for a specific SQL statment only, or it could be important for all connections on the server, these two areas are examples of different scopes where a variable could be applied.\n",
    "\n",
    "Alternatively you could hear programmers use the term visibility which means the same thing in a slightly more technical language.\n",
    "\n",
    "There are three types of MySQL variables, local, session and global.\n",
    "\n",
    "Local variable, a variable that is visible only in the BEGIN-END block in which it was created, in the f_emp_avg_salary function, the DECLARE is a keyword that can be used when creating local variables only, you can not DECLARE variable of some other type such as session or global variables, the local variables can not be accessed from outside this block, it will raise the error message, the unknown column, this means this variable is unknown to MySQL."
   ]
  },
  {
   "cell_type": "code",
   "execution_count": null,
   "metadata": {},
   "outputs": [],
   "source": []
  }
 ],
 "metadata": {
  "kernelspec": {
   "display_name": "Python 3",
   "language": "python",
   "name": "python3"
  },
  "language_info": {
   "codemirror_mode": {
    "name": "ipython",
    "version": 3
   },
   "file_extension": ".py",
   "mimetype": "text/x-python",
   "name": "python",
   "nbconvert_exporter": "python",
   "pygments_lexer": "ipython3",
   "version": "3.7.4"
  }
 },
 "nbformat": 4,
 "nbformat_minor": 2
}
