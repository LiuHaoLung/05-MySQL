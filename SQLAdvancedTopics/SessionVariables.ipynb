{
 "cells": [
  {
   "cell_type": "markdown",
   "metadata": {},
   "source": [
    "# Session Variables"
   ]
  },
  {
   "cell_type": "markdown",
   "metadata": {},
   "source": [
    "A session is a series of information exchange interactions, or a dialogue, between a computer and a user, that would be a dialogue between the MySQL server and a client application like MySQL workbench.\n",
    "\n",
    "A session begins at a certain point in time and terminates at another, later point, so how do you start a MySQL session:\n",
    "\n",
    "Step 1, set up a connection, means you must connect to MySQL server at the beginning.\n",
    "\n",
    "Step 2, click the connections name, types the password and click ok, this is when you are connected to the MySQL server, so this is when you are establishing a connection.\n",
    "\n",
    "Step 3, once step 1 and step 2 is success, the workbench interface will open immediately.\n",
    "\n",
    "Step 4, end a connection.\n",
    "___\n",
    "\n",
    "There are certain SQL objects that are valid for a specific session only, this means if you are using it as SQL object during a specific connection for a period of time and then you end that connection, you will lose all the data contained or created by these SQL objects.\n",
    "\n",
    "Session variable, is a variable that exists only for the session in which you are operating, it is defined on the server, and it lives there, it is visible to the connection being used only.\n",
    "\n",
    "Therefore, if there are 100 users connected to the server at the same time, this means there will be 100 connections and 100 sessions no more and no less.\n",
    "\n",
    "However, you will be the only one who can see the vairable you have created in your session.\n",
    "___\n",
    "\n",
    "For example, we want to create variable is s_var1 = 3, there are two differences between this type of variable and the local variable.\n",
    "\n",
    "First, the keyword, when create the local variable, the keyword is DECLARE, but when create the session variable, the keyword is SET.\n",
    "\n",
    "Second, when create the local variable, it is not use the <code>@</code>, but when create the session variable, it need to use the <code>@</code>, the @ indicates we are creating a MySQL session variable.\n",
    "\n",
    "When create success, SELECT @s_var1;, the SQL will return 3.\n",
    "\n",
    "If we open a new tab, it means we will still use the same root connection, which means we will be in the same MySQL session, therefore if we select the same variable, the software will display 3 again.\n",
    "\n",
    "If opening another connection, and trying to SELECT s_var1;, it will return the empty value, means the null value, this because s_var1 was set to be a session variable, and it was visible only to the session in which it was created, so the new session represented by the new connection we established with the MySQL server was beyond its scope, so in this situation, we could not obtain its value in there."
   ]
  },
  {
   "cell_type": "code",
   "execution_count": null,
   "metadata": {},
   "outputs": [],
   "source": []
  }
 ],
 "metadata": {
  "kernelspec": {
   "display_name": "Python 3",
   "language": "python",
   "name": "python3"
  },
  "language_info": {
   "codemirror_mode": {
    "name": "ipython",
    "version": 3
   },
   "file_extension": ".py",
   "mimetype": "text/x-python",
   "name": "python",
   "nbconvert_exporter": "python",
   "pygments_lexer": "ipython3",
   "version": "3.7.4"
  }
 },
 "nbformat": 4,
 "nbformat_minor": 2
}
