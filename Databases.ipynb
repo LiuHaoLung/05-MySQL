{
 "cells": [
  {
   "cell_type": "markdown",
   "metadata": {},
   "source": [
    "# Databases"
   ]
  },
  {
   "cell_type": "markdown",
   "metadata": {},
   "source": [
    "When studying programming languages is that the concepts you encounter are interrelated.\n",
    "\n",
    "This means focusing on a single topic can hardly deliver the content that must be explained in its entirety, SQL makes no exception.\n",
    "___\n",
    "\n",
    "This table is a example for the database, it contains data about the customer sales of a furniture store:\n",
    "\n",
    "Purchase_number      |Data_of_purchase      |Customer_id      |Item_code\n",
    "---                  |---                   |---              |---\n",
    "1                    |03/09/2016            |1                |A_1\n",
    "2                    |02/12/2016            |2                |C_1\n",
    "3                    |15/04/2017            |3                |D_1\n",
    "4                    |24/05/2017            |1                |B_2\n",
    "5                    |25/05/2017            |4                |B_2\n",
    "6                    |06/06/2017            |2                |B_1\n",
    "7                    |10/06/2017            |4                |A_2\n",
    "8                    |13/06/2017            |3                |C_1\n",
    "9                    |20/07/2017            |1                |A_1\n",
    "10                   |11/08/2017            |2                |B_1\n",
    "\n",
    "\n",
    "This is how to read the information, Purchase_number 1 was registered on the 3rd of September 2016, then Customer_id 1 bought the item with code A_1.\n",
    "\n",
    "Each of the 4 elements has a specific meaning, it will call each one a data value, all 4 data values make up 1 record, a record is each entry that exists in a table, it corresponds to a row of the table.\n",
    "\n",
    "Therefore these 4 data values from 1 record and these data values regarding Purchase_number 2 form another record.\n",
    "\n",
    "It can use the terms row and record interchangeably, besids the rows, it can see the data is separated into 4 columns or fields.\n",
    "\n",
    "A field is a column in a table containing specific information about every record in the table, this means all the records in a table, regardless if they are 10, 10000, or 10 million, will have a certain Purchase_number, Date_of_purchase, Customer_id, and Item_code.\n",
    "\n",
    "When the data you have is organized in rows and columns, this means you are dealing with stored tabular data, database management relates to data stored in tabular form.\n",
    "\n",
    "In this table, we know nothing about a customer besides ID, the information about customers is stored in another table, called Customers.\n",
    "\n",
    "Customer_id      |First_name    |Last_name    |Email_address                       |Number_of_complaints\n",
    "---              |---           |---          |---                                 |---\n",
    "1                |John          |McKinley     |john.mackinley@365careers.com       |0\n",
    "2                |Elizabeth     |McFarlane    |e.mcfarlane@365careers.com          |2\n",
    "3                |Kevin         |Lawrence     |kevin.lawrence@365careers.com       |1\n",
    "4                |Catherine     |Winnfield    |c.winnfield@365careers.com          |0\n",
    "\n",
    "\n",
    "There are several fields, every time we have a customer with an ID number in the Sales table, we can refer to the customer with ID in the Customers table and see the information.\n",
    "\n",
    "Same goes for the Items table.\n",
    "\n",
    "Item_code     |Item          |Unit_price   |Company_id  |Company   |Headquarters_phone_number\n",
    "---           |---           |---          |---         |---       |---\n",
    "A_1           |Lamp          |20           |1           |Company A |+1(202)555-0169\n",
    "A_2           |Desk          |250          |1           |Company A |+1(202)555-0169\n",
    "B_1           |Lamp          |30           |2           |Company B |+1(202)555-0152\n",
    "B_2           |Desk          |350          |2           |Company B |+1(202)555-0152\n",
    "C_1           |Chair         |150          |3           |Company C |+1(229)853-9913\n",
    "D_1           |Loudspeakers  |400          |4           |Company D |+1(618)369-7392"
   ]
  },
  {
   "cell_type": "code",
   "execution_count": null,
   "metadata": {},
   "outputs": [],
   "source": []
  }
 ],
 "metadata": {
  "kernelspec": {
   "display_name": "Python 3",
   "language": "python",
   "name": "python3"
  },
  "language_info": {
   "codemirror_mode": {
    "name": "ipython",
    "version": 3
   },
   "file_extension": ".py",
   "mimetype": "text/x-python",
   "name": "python",
   "nbconvert_exporter": "python",
   "pygments_lexer": "ipython3",
   "version": "3.7.4"
  }
 },
 "nbformat": 4,
 "nbformat_minor": 2
}
