{
 "cells": [
  {
   "cell_type": "markdown",
   "metadata": {},
   "source": [
    "# Stored Routine"
   ]
  },
  {
   "cell_type": "markdown",
   "metadata": {},
   "source": [
    "Routine is in a context other than computer science, a routine is commonly perceived as a usual, fixed action, or series of actions, repeated periodically.\n",
    "\n",
    "A query that returns a certain output, and of a database system that has multiple users, everytime a user need an output obtained by the execution of this query, they will have to type the same code again, stored routine could potentially solve this problem.\n",
    "\n",
    "It is nothing but an SQL statement, or a set of SQL statements, that can be stored on the database server, thus whenever a user needs to run the query in question, they can call, reference, or invoke the routine.\n",
    "\n",
    "All this verbs mean the same, the user will simply tell SQL to execute the statements in question, then they will deliver the obtained output, consider the following example, think of a stored routine that contains a query, implementing a very simple algorithm, this algorithm first checks all monthly sales generated throughtout a calender year, and then returns the lowest of these values.\n",
    "\n",
    "Imagine there are 100 users of the database who need to run this check daily, does that mean the same code must be rewritten by all of them everyday, no, you could write the query that encloses this algorithm only once and then stored in a routine, then this routine can bring the desired result multiple times, every time a user calls it, the query will be executed.\n",
    "\n",
    "Moreover, don't think that calling a routine is a burdensome process, all you need is a single line of code and you will be able to retrieve the lowest number from the year you have designated.\n",
    "\n",
    "We can have two types of stored routines, stored procedures and functions, all procedures are stored, therefore the stored procedures can simply call procedures if you prefer, functions though can be of various types, they could be programmed manually and in that case they will act like stored routines, this are the user-defined functions, alternatively we can have built in functions in MySQL, which means that these functions have already been defined inside MySQL."
   ]
  },
  {
   "cell_type": "code",
   "execution_count": null,
   "metadata": {},
   "outputs": [],
   "source": []
  }
 ],
 "metadata": {
  "kernelspec": {
   "display_name": "Python 3",
   "language": "python",
   "name": "python3"
  },
  "language_info": {
   "codemirror_mode": {
    "name": "ipython",
    "version": 3
   },
   "file_extension": ".py",
   "mimetype": "text/x-python",
   "name": "python",
   "nbconvert_exporter": "python",
   "pygments_lexer": "ipython3",
   "version": "3.7.4"
  }
 },
 "nbformat": 4,
 "nbformat_minor": 2
}
