{
 "cells": [
  {
   "cell_type": "markdown",
   "metadata": {},
   "source": [
    "# Conclusion"
   ]
  },
  {
   "cell_type": "markdown",
   "metadata": {},
   "source": [
    "#### Technical differences\n",
    "\n",
    "Stored Procedure              |User-Defined function\n",
    "---                           |---\n",
    "CALL procedure                |SELECT function\n",
    "Doesn't return a value        |Return a value\n",
    "CALL procedure                |SELECT function\n",
    "\n",
    "___\n",
    "\n",
    "#### Conceptual differences\n",
    "\n",
    "Stored Procedure              |User-Defined function\n",
    "---                           |---\n",
    "Can have both IN and OUT parameters, in fact they can have multiple OUT parameters|Can return a single value only\n",
    "\n",
    "Therefore, if you need to obtain more than one value as a result of a calculation, you are better off using a procedure, and if you need to just one value to be returned, then you can use a function.\n",
    "___\n",
    "\n",
    "#### Involving and INSERT, UPDATE, or DELETE ?\n",
    "\n",
    "In this statments, the operation performed will apply changes to the data in the database, in other words, there will be no value or values to be returned and displayed to the user, a function should not be used in case, it must always return a value, on that account, using a procedure without an out parameter is the right choice.\n",
    "\n",
    "___\n",
    "\n",
    "#### Technical & Conceptual difference\n",
    "\n",
    "Stored Procedure              |User-Defined function\n",
    "---                           |---\n",
    "CALL procedure                |SELECT function\n",
    "Including a procedure in a SELECT statement is impossible                              |Can easily include a function as one of the columns inside a SELECT statement"
   ]
  },
  {
   "cell_type": "code",
   "execution_count": null,
   "metadata": {},
   "outputs": [],
   "source": []
  }
 ],
 "metadata": {
  "kernelspec": {
   "display_name": "Python 3",
   "language": "python",
   "name": "python3"
  },
  "language_info": {
   "codemirror_mode": {
    "name": "ipython",
    "version": 3
   },
   "file_extension": ".py",
   "mimetype": "text/x-python",
   "name": "python",
   "nbconvert_exporter": "python",
   "pygments_lexer": "ipython3",
   "version": "3.7.4"
  }
 },
 "nbformat": 4,
 "nbformat_minor": 2
}
